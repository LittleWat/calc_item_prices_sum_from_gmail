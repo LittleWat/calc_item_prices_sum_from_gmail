{
 "cells": [
  {
   "cell_type": "markdown",
   "metadata": {},
   "source": [
    " # Use python 2"
   ]
  },
  {
   "cell_type": "code",
   "execution_count": 1,
   "metadata": {
    "collapsed": false
   },
   "outputs": [],
   "source": [
    "import datetime\n",
    "import email\n",
    "import gmail \n",
    "import re\n",
    "import math\n",
    "import json"
   ]
  },
  {
   "cell_type": "code",
   "execution_count": 2,
   "metadata": {
    "collapsed": true
   },
   "outputs": [],
   "source": [
    "def get_body(msg):\n",
    "    body = msg.get_payload(decode=True)\n",
    "    char = msg.get_param('charset')\n",
    "    return unicode(body, char, 'ignore').encode('utf-8')"
   ]
  },
  {
   "cell_type": "code",
   "execution_count": 3,
   "metadata": {
    "collapsed": false
   },
   "outputs": [],
   "source": [
    " ##### setting needed !!! #####\n",
    "gmail_address = \"hogehoge@hogehoge\"\n",
    "gmail_passwd = \"hogehoge\"\n",
    "\n",
    "items = [ r\"アルカリイオンの水\", r\"サントリー　天然水（南アルプス）\", r\"きほんのき　紙コップ　ホット、コールド兼用\" ,r'富士山系の天然水']\n",
    "#items = [r\"スペシャルブレンド（豆）\", r\"小川珈琲店 小川プレミアムブレンド （豆）\"] \n",
    "\n",
    "n_users = 31\n",
    "\n",
    "start = datetime.date(2017, 3, 1)\n",
    "end = datetime.date(2017, 4, 1)\n",
    "#######################"
   ]
  },
  {
   "cell_type": "code",
   "execution_count": 4,
   "metadata": {
    "collapsed": false
   },
   "outputs": [],
   "source": [
    "g = gmail.login(gmail_address, gmail_passwd)"
   ]
  },
  {
   "cell_type": "code",
   "execution_count": 5,
   "metadata": {
    "collapsed": false
   },
   "outputs": [
    {
     "name": "stdout",
     "output_type": "stream",
     "text": [
      "西友: 1\n",
      "アルピナ: 1\n"
     ]
    }
   ],
   "source": [
    "seiyu_mails = g.inbox().mail(after=start, before=end, sender=\"seiyunet@the-seiyu.com\")\n",
    "print (\"西友: \" + str(len(seiyu_mails)))\n",
    "\n",
    "alpina_mails = g.inbox().mail(after=start, before=end, sender=\"desk@toell.co.jp\")\n",
    "print (\"アルピナ: \"+ str(len(alpina_mails)))"
   ]
  },
  {
   "cell_type": "code",
   "execution_count": 6,
   "metadata": {
    "collapsed": false
   },
   "outputs": [],
   "source": [
    "def get_seiyu(body, items):\n",
    "\n",
    "    def get_price(target):\n",
    "        try:\n",
    "            print target.group()\n",
    "            print '-' * 20\n",
    "            price = int(target.group(3).replace(\",\", \"\"))\n",
    "            price = math.ceil(price * 1.08)\n",
    "            return price\n",
    "        except AttributeError as e:\n",
    "            print e\n",
    "            return 0\n",
    "\n",
    "    prices = []\n",
    "    for item in items:\n",
    "        target = re.search((item +'[\\s]+価格：([\\d,]+)円\\(税抜\\)\\s+購入数量：(\\d+)個\\s+小計：([\\d,]+)円'), body)\n",
    "        prices.append(get_price(target))\n",
    "    return prices\n",
    "\n",
    "def get_alpina(body):\n",
    "    target = re.search(r'合計\\s+([\\d,]+)円', body)\n",
    "    print target.group()\n",
    "    return [int(target.group(1).replace(\",\", \"\"))]"
   ]
  },
  {
   "cell_type": "code",
   "execution_count": 7,
   "metadata": {
    "collapsed": false,
    "scrolled": false
   },
   "outputs": [
    {
     "name": "stdout",
     "output_type": "stream",
     "text": [
      "****************************************************************************************************\n",
      "[ご注文確認\n",
      "アルカリイオンの水\n",
      "\n",
      "価格：398円(税抜)\n",
      "購入数量：2個\n",
      "小計：796円\n",
      "--------------------\n",
      "サントリー　天然水（南アルプス）\n",
      "\n",
      "価格：398円(税抜)\n",
      "購入数量：2個\n",
      "小計：796円\n",
      "--------------------\n",
      "'NoneType' object has no attribute 'group'\n",
      "富士山系の天然水\n",
      "\n",
      "価格：378円(税抜)\n",
      "購入数量：2個\n",
      "小計：756円\n",
      "--------------------\n",
      "Next Alpina\n",
      "****************************************************************************************************\n",
      "アルピナウォーター：ご注文ありがとうございます。\n",
      "合計                                    7,161円\n",
      "[860.0, 860.0, 0, 817.0, 7161, 618.0]\n"
     ]
    }
   ],
   "source": [
    "prices = []\n",
    "\n",
    "for mail in seiyu_mails:\n",
    "    msg = mail.fetch()\n",
    "    body = get_body(msg)\n",
    "    print '*' * 100\n",
    "    print mail.subject\n",
    "#     print mail.q\n",
    "    prices.extend(get_seiyu(body, items))\n",
    "#     print (\"One Mail Finished\")\n",
    "    \n",
    "#print (prices)\n",
    "print (\"Next Alpina\")\n",
    "\n",
    "for mail in alpina_mails:\n",
    "    msg = mail.fetch()\n",
    "    body = get_body(msg)\n",
    "    print '*' * 100\n",
    "   \n",
    "    print mail.subject\n",
    "    prices.extend(get_alpina(body))\n",
    "#     print (\"One Mail Finished\")\n",
    "\n",
    "\n",
    "prices.append(math.ceil(572*1.08)) #ウォータサーバ\n",
    "    \n",
    "print (prices)"
   ]
  },
  {
   "cell_type": "markdown",
   "metadata": {
    "collapsed": true
   },
   "source": [
    "# 合計"
   ]
  },
  {
   "cell_type": "code",
   "execution_count": 8,
   "metadata": {
    "collapsed": true
   },
   "outputs": [],
   "source": [
    "prices += [200] #　ゴミ箱代など "
   ]
  },
  {
   "cell_type": "code",
   "execution_count": 9,
   "metadata": {
    "collapsed": false
   },
   "outputs": [
    {
     "data": {
      "text/plain": [
       "[860.0, 860.0, 0, 817.0, 7161, 618.0, 200]"
      ]
     },
     "execution_count": 9,
     "metadata": {},
     "output_type": "execute_result"
    }
   ],
   "source": [
    "prices "
   ]
  },
  {
   "cell_type": "code",
   "execution_count": 10,
   "metadata": {
    "collapsed": false
   },
   "outputs": [
    {
     "data": {
      "text/plain": [
       "10516.0"
      ]
     },
     "execution_count": 10,
     "metadata": {},
     "output_type": "execute_result"
    }
   ],
   "source": [
    "price_sum = sum(prices) \n",
    "price_sum"
   ]
  },
  {
   "cell_type": "code",
   "execution_count": 11,
   "metadata": {
    "collapsed": false
   },
   "outputs": [
    {
     "name": "stdout",
     "output_type": "stream",
     "text": [
      "ユーザ数: 31\n",
      "合計: 10516.0円\n",
      "一人当たり: 339.225806452円\n"
     ]
    }
   ],
   "source": [
    "#11~2は34人\n",
    "print (\"ユーザ数: \" + str(n_users))\n",
    "print (\"合計: \" +str(price_sum)+  \"円\")\n",
    "print (\"一人当たり: \" + str(price_sum/n_users)+  \"円\")"
   ]
  }
 ],
 "metadata": {
  "anaconda-cloud": {},
  "kernelspec": {
   "display_name": "Python [conda root]",
   "language": "python",
   "name": "conda-root-py"
  },
  "language_info": {
   "codemirror_mode": {
    "name": "ipython",
    "version": 2
   },
   "file_extension": ".py",
   "mimetype": "text/x-python",
   "name": "python",
   "nbconvert_exporter": "python",
   "pygments_lexer": "ipython2",
   "version": "2.7.12"
  }
 },
 "nbformat": 4,
 "nbformat_minor": 0
}
